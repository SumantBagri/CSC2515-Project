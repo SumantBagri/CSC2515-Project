{
 "cells": [
  {
   "cell_type": "code",
   "execution_count": 36,
   "metadata": {},
   "outputs": [],
   "source": [
    "import numpy as np\n",
    "import math\n",
    "from catboost import Pool, CatBoostRegressor\n",
    "import seaborn as sns\n",
    "import matplotlib.pyplot as plt"
   ]
  },
  {
   "cell_type": "markdown",
   "metadata": {},
   "source": [
    "Assume that we have two categorical features with 9 values each, so there are 81 possible feature combinations. The target y depends on the features x as y = mean(x) + eps(x), where mean(x) is some unknown fixed value and eps(x) is a normally distributed noise with mean 0 and variance var(x). We let mean(x) to be randomly generated and var(x) to have two values - 0.01 and 0.04. Also, there will be an \"unknown\" region without any training examples. To indicate this region on the figure, we set var(x) = 0 for these feature combinations."
   ]
  },
  {
   "cell_type": "code",
   "execution_count": 37,
   "metadata": {},
   "outputs": [],
   "source": [
    "# function for generating mean and variance\n",
    "def gen_parameters(noise=0.01, seed=0):\n",
    "    \n",
    "    np.random.seed(seed)\n",
    "    \n",
    "    mean = np.random.rand(9, 9)\n",
    "    \n",
    "    figure = np.array([\n",
    "        [1, 1, 1, 1, 1, 1, 1, 1, 1],\n",
    "        [1, 1, 4, 1, 1, 1, 4, 1, 1],\n",
    "        [1, 4, 0, 4, 1, 4, 0, 4, 1],\n",
    "        [4, 0, 0, 0, 4, 0, 0, 0, 4],\n",
    "        [1, 4, 0, 0, 0, 0, 0, 4, 1],\n",
    "        [1, 1, 4, 0, 0, 0, 4, 1, 1],\n",
    "        [1, 1, 1, 4, 0, 4, 1, 1, 1],\n",
    "        [1, 1, 1, 1, 4, 1, 1, 1, 1],\n",
    "        [1, 1, 1, 1, 1, 1, 1, 1, 1]\n",
    "    ])\n",
    "\n",
    "    var = figure*noise\n",
    "    \n",
    "    return mean, var"
   ]
  },
  {
   "cell_type": "code",
   "execution_count": 38,
   "metadata": {},
   "outputs": [
    {
     "name": "stdout",
     "output_type": "stream",
     "text": [
      "True data uncertainty (variance). The white region will not contain any traing data.\n"
     ]
    },
    {
     "data": {
      "image/png": "[encoded data removed]",
      "text/plain": [
       "<Figure size 432x288 with 2 Axes>"
      ]
     },
     "metadata": {
      "needs_background": "light"
     },
     "output_type": "display_data"
    }
   ],
   "source": [
    "# generate parameters and plot variance\n",
    "mean, var = gen_parameters()\n",
    "print(\"True data uncertainty (variance). The white region will not contain any traing data.\")\n",
    "sns.heatmap(var, cmap=\"Reds\", vmax=0.05)\n",
    "plt.savefig(\"heart_data_gt.pdf\")\n",
    "plt.show()"
   ]
  },
  {
   "cell_type": "code",
   "execution_count": 39,
   "metadata": {},
   "outputs": [],
   "source": [
    "# function for generating train and validation sets\n",
    "def generate_training_data(n_samples, mean, var, num_cat=9, seed=0):\n",
    "    np.random.seed(seed)\n",
    "    train = []\n",
    "    target = []\n",
    "    val = []\n",
    "    val_target = []\n",
    "    for i in range(num_cat):\n",
    "        for j in range(num_cat):\n",
    "            if var[i, j] == 0:\n",
    "                continue\n",
    "            for _ in range(n_samples):\n",
    "                train.append([i, j])\n",
    "                val.append([i, j])\n",
    "                target.append(np.random.normal(mean[i, j], math.sqrt(var[i, j])))\n",
    "                val_target.append(np.random.normal(mean[i, j], math.sqrt(var[i, j])))\n",
    "                \n",
    "    train = np.asarray(train)\n",
    "    target = np.asarray(target)\n",
    "\n",
    "    return train, target, val, val_target"
   ]
  },
  {
   "cell_type": "code",
   "execution_count": 40,
   "metadata": {},
   "outputs": [],
   "source": [
    "# generate train and validation datasets\n",
    "train, target, val, val_target = generate_training_data(1000, mean, var)\n",
    "\n",
    "train_pool = Pool(train, target, cat_features = [0, 1])\n",
    "val_pool = Pool(val, val_target, cat_features = [0, 1])\n",
    "\n",
    "# generate test, consisting of all possible feature combinations\n",
    "num_cat = 9\n",
    "test = np.asarray([[i, j] for i in range(num_cat) for j in range(num_cat)])"
   ]
  },
  {
   "cell_type": "markdown",
   "metadata": {},
   "source": [
    "Let’s generate an ensemble of SGLB models (for this, we use the option posterior_sampling):"
   ]
  },
  {
   "cell_type": "code",
   "execution_count": 41,
   "metadata": {},
   "outputs": [
    {
     "name": "stdout",
     "output_type": "stream",
     "text": [
      "best iteration = 994\n",
      "best iteration = 999\n",
      "best iteration = 995\n",
      "best iteration = 937\n",
      "best iteration = 984\n",
      "best iteration = 974\n",
      "best iteration = 996\n",
      "best iteration = 955\n",
      "best iteration = 996\n",
      "best iteration = 999\n"
     ]
    }
   ],
   "source": [
    "def ensemble(train_pool, val_pool, num_samples=10, iters=1000, lr=0.3):\n",
    "    ens_preds = []\n",
    "    for seed in range(num_samples):\n",
    "        model = CatBoostRegressor(random_seed=seed, iterations=iters, learning_rate=lr, \n",
    "                                  loss_function='RMSEWithUncertainty', posterior_sampling=True,\n",
    "                                  bootstrap_type='No', verbose=False)\n",
    "        model.fit(train_pool, eval_set=val_pool, use_best_model=False)\n",
    "        print(\"best iteration =\", model.get_best_iteration()) # check that best iteration is reasonable\n",
    "        ens_preds.append(model.predict(test))\n",
    "    return ens_preds\n",
    "\n",
    "ens_preds = ensemble(train_pool, val_pool, num_samples=10, iters=1000, lr=0.3)\n",
    "ens_preds = np.asarray(ens_preds)"
   ]
  },
  {
   "cell_type": "markdown",
   "metadata": {},
   "source": [
    "For regression, data uncertainty is the average variance predicted by the models, while knowledge uncertainty can be obtained by measuring the variance of the mean across multiple models."
   ]
  },
  {
   "cell_type": "code",
   "execution_count": 42,
   "metadata": {
    "scrolled": true
   },
   "outputs": [
    {
     "name": "stdout",
     "output_type": "stream",
     "text": [
      "Average predicted data uncertainty:\n"
     ]
    },
    {
     "data": {
      "image/png": "[encoded data removed]",
      "text/plain": [
       "<Figure size 432x288 with 2 Axes>"
      ]
     },
     "metadata": {
      "needs_background": "light"
     },
     "output_type": "display_data"
    },
    {
     "name": "stdout",
     "output_type": "stream",
     "text": [
      "Knowledge uncertainty via ensemble:\n"
     ]
    },
    {
     "data": {
      "image/png": "[encoded data removed]",
      "text/plain": [
       "<Figure size 432x288 with 2 Axes>"
      ]
     },
     "metadata": {
      "needs_background": "light"
     },
     "output_type": "display_data"
    }
   ],
   "source": [
    "data = np.mean(ens_preds, axis=0)[:, 1] # average estimated data uncertainty\n",
    "knowledge = np.var(ens_preds, axis=0)[:, 0] # estimated knowledge uncertainty\n",
    "\n",
    "print(\"Average predicted data uncertainty:\")            \n",
    "sns.heatmap(data.reshape([num_cat, num_cat]), cmap=\"Reds\", vmin=0, vmax=0.05)\n",
    "plt.savefig(\"heart_data_sglb.pdf\")\n",
    "plt.show()\n",
    "\n",
    "print(\"Knowledge uncertainty via ensemble:\")            \n",
    "sns.heatmap(knowledge.reshape([num_cat, num_cat]), cmap=\"Reds\")\n",
    "plt.savefig(\"heart_knowledge_sglb.pdf\")\n",
    "plt.show()"
   ]
  },
  {
   "cell_type": "markdown",
   "metadata": {},
   "source": [
    "Let us estimate data and knowledge uncertainty with a virtual ensemble. Here we can also use prediction_type='TotalUncertainty': in this case, CatBoost calculates and returns the following statistics using the virtual ensemble: Mean Predictions, Knowledge Uncertainty, Data Uncertainty"
   ]
  },
  {
   "cell_type": "code",
   "execution_count": 43,
   "metadata": {},
   "outputs": [],
   "source": [
    "model = CatBoostRegressor(iterations=1000, learning_rate=0.3, loss_function='RMSEWithUncertainty', \n",
    "                          posterior_sampling=True, bootstrap_type='No', random_seed=0, verbose=False)\n",
    "model.fit(train_pool, eval_set=val_pool, use_best_model=False)\n",
    "preds = model.virtual_ensembles_predict(test, prediction_type='TotalUncertainty', virtual_ensembles_count=10)"
   ]
  },
  {
   "cell_type": "code",
   "execution_count": 44,
   "metadata": {},
   "outputs": [
    {
     "name": "stdout",
     "output_type": "stream",
     "text": [
      "Average predicted data uncertainty:\n"
     ]
    },
    {
     "data": {
      "image/png": "[encoded data removed]",
      "text/plain": [
       "<Figure size 432x288 with 2 Axes>"
      ]
     },
     "metadata": {
      "needs_background": "light"
     },
     "output_type": "display_data"
    },
    {
     "name": "stdout",
     "output_type": "stream",
     "text": [
      "Knowledge uncertainty via virtual ensemble:\n"
     ]
    },
    {
     "data": {
      "image/png": "[encoded data removed]",
      "text/plain": [
       "<Figure size 432x288 with 2 Axes>"
      ]
     },
     "metadata": {
      "needs_background": "light"
     },
     "output_type": "display_data"
    }
   ],
   "source": [
    "mean_preds = preds[:,0] # mean values predicted by a virtual ensemble\n",
    "\n",
    "data = preds[:,2] # estimated data uncertainty\n",
    "print(\"Average predicted data uncertainty:\")\n",
    "sns.heatmap(data.reshape([num_cat,num_cat]), cmap=\"Reds\", vmin = 0, vmax = 0.05)\n",
    "plt.savefig(\"heart_data_vsglb.pdf\")\n",
    "plt.show()\n",
    "\n",
    "knowledge = preds[:,1] # knowledge uncertainty\n",
    "print(\"Knowledge uncertainty via virtual ensemble:\")\n",
    "sns.heatmap(knowledge.reshape([num_cat,num_cat]), cmap=\"Reds\")\n",
    "plt.savefig(\"heart_knowledge_vsglb.pdf\")\n",
    "plt.show()"
   ]
  },
  {
   "cell_type": "markdown",
   "metadata": {},
   "source": [
    "Now, let us do the same for SGB ensembles. In this case, we do not use posterior_sampling and instead set bootstrap_type='Bernoulli' and subsample=0.5. Note that a smaller learning rate is needed for convergence. "
   ]
  },
  {
   "cell_type": "code",
   "execution_count": 20,
   "metadata": {},
   "outputs": [
    {
     "name": "stdout",
     "output_type": "stream",
     "text": [
      "best iteration = 858\n",
      "best iteration = 483\n",
      "best iteration = 702\n",
      "best iteration = 393\n",
      "best iteration = 538\n",
      "best iteration = 419\n",
      "best iteration = 519\n",
      "best iteration = 552\n",
      "best iteration = 474\n",
      "best iteration = 450\n"
     ]
    }
   ],
   "source": [
    "def ensemble(train_pool, val_pool, num_samples=10, iters=1000, lr=0.1):\n",
    "    ens_preds = []\n",
    "    for seed in range(num_samples):\n",
    "        model = CatBoostRegressor(random_seed=seed, iterations=iters, learning_rate=lr, \n",
    "                                  loss_function='RMSEWithUncertainty', subsample=0.5,\n",
    "                                  bootstrap_type='Bernoulli', verbose=False)\n",
    "        model.fit(train_pool, eval_set=val_pool, use_best_model=False)\n",
    "        print(\"best iteration =\", model.get_best_iteration()) # check that best iteration is reasonable\n",
    "        ens_preds.append(model.predict(test))\n",
    "    return ens_preds\n",
    "\n",
    "ens_preds = ensemble(train_pool, val_pool, num_samples=10, iters=1000, lr=0.1)\n",
    "ens_preds = np.asarray(ens_preds)"
   ]
  },
  {
   "cell_type": "code",
   "execution_count": 11,
   "metadata": {},
   "outputs": [
    {
     "name": "stdout",
     "output_type": "stream",
     "text": [
      "Average predicted data uncertainty:\n"
     ]
    },
    {
     "data": {
      "image/png": "[encoded data removed]",
      "text/plain": [
       "<Figure size 432x288 with 2 Axes>"
      ]
     },
     "metadata": {
      "needs_background": "light"
     },
     "output_type": "display_data"
    },
    {
     "name": "stdout",
     "output_type": "stream",
     "text": [
      "Knowledge uncertainty via ensemble:\n"
     ]
    },
    {
     "data": {
      "image/png": "[encoded data removed]",
      "text/plain": [
       "<Figure size 432x288 with 2 Axes>"
      ]
     },
     "metadata": {
      "needs_background": "light"
     },
     "output_type": "display_data"
    }
   ],
   "source": [
    "data = np.mean(ens_preds, axis=0)[:, 1] # average estimated data uncertainty\n",
    "knowledge = np.var(ens_preds, axis=0)[:, 0] # estimated knowledge uncertainty\n",
    "\n",
    "print(\"Average predicted data uncertainty:\")            \n",
    "sns.heatmap(data.reshape([num_cat, num_cat]), cmap=\"Reds\", vmin=0, vmax=0.05)\n",
    "# plt.savefig(\"heart_data_sgb.pdf\")\n",
    "plt.show()\n",
    "\n",
    "print(\"Knowledge uncertainty via ensemble:\")            \n",
    "sns.heatmap(knowledge.reshape([num_cat, num_cat]), cmap=\"Reds\")\n",
    "# plt.savefig(\"heart_knowledge_sgb.pdf\")\n",
    "plt.show()"
   ]
  },
  {
   "cell_type": "code",
   "execution_count": 12,
   "metadata": {},
   "outputs": [],
   "source": [
    "model = CatBoostRegressor(iterations=1000, learning_rate=0.1, loss_function='RMSEWithUncertainty', \n",
    "                          subsample=0.5, bootstrap_type='Bernoulli', random_seed=0, verbose=False)\n",
    "model.fit(train_pool, eval_set=val_pool, use_best_model=False)\n",
    "preds = model.virtual_ensembles_predict(test, prediction_type='TotalUncertainty', virtual_ensembles_count=10)"
   ]
  },
  {
   "cell_type": "code",
   "execution_count": 13,
   "metadata": {},
   "outputs": [
    {
     "name": "stdout",
     "output_type": "stream",
     "text": [
      "Average predicted data uncertainty:\n"
     ]
    },
    {
     "data": {
      "image/png": "[encoded data removed]",
      "text/plain": [
       "<Figure size 432x288 with 2 Axes>"
      ]
     },
     "metadata": {
      "needs_background": "light"
     },
     "output_type": "display_data"
    },
    {
     "name": "stdout",
     "output_type": "stream",
     "text": [
      "Knowledge uncertainty via virtual ensemble:\n"
     ]
    },
    {
     "data": {
      "image/png": "[encoded data removed]",
      "text/plain": [
       "<Figure size 432x288 with 2 Axes>"
      ]
     },
     "metadata": {
      "needs_background": "light"
     },
     "output_type": "display_data"
    }
   ],
   "source": [
    "mean_preds = preds[:,0] # mean values predicted by a virtual ensemble\n",
    "\n",
    "data = preds[:,2] # estimated data uncertainty\n",
    "print(\"Average predicted data uncertainty:\")\n",
    "sns.heatmap(data.reshape([num_cat,num_cat]), cmap=\"Reds\", vmin = 0, vmax = 0.05)\n",
    "# plt.savefig(\"heart_data_vsgb.pdf\")\n",
    "plt.show()\n",
    "\n",
    "knowledge = preds[:,1] # knowledge uncertainty\n",
    "print(\"Knowledge uncertainty via virtual ensemble:\")\n",
    "sns.heatmap(knowledge.reshape([num_cat,num_cat]), cmap=\"Reds\")\n",
    "# plt.savefig(\"heart_knowledge_vsgb.pdf\")\n",
    "plt.show()"
   ]
  },
  {
   "cell_type": "code",
   "execution_count": null,
   "metadata": {},
   "outputs": [],
   "source": []
  }
 ],
 "metadata": {
  "kernelspec": {
   "display_name": "Python 3",
   "language": "python",
   "name": "python3"
  },
  "language_info": {
   "codemirror_mode": {
    "name": "ipython",
    "version": 3
   },
   "file_extension": ".py",
   "mimetype": "text/x-python",
   "name": "python",
   "nbconvert_exporter": "python",
   "pygments_lexer": "ipython3",
   "version": "3.6.9"
  }
 },
 "nbformat": 4,
 "nbformat_minor": 2
}
